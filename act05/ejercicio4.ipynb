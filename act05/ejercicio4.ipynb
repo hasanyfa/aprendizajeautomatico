{
 "cells": [
  {
   "metadata": {},
   "cell_type": "markdown",
   "source": "# Árboles de Decisión vs Regresión Logística",
   "id": "4602092d6ca2405c"
  },
  {
   "metadata": {},
   "cell_type": "markdown",
   "source": "Con la metodología desarrollada en la pregunta 2 evalúa el desempeño del nuevo modelo y compáralo con los resultados obtenidos con su homólogo de regresión logística (pregunta 1) para la problemática original. Incluye tus conclusiones en el documento electrónico de la actividad.",
   "id": "a5636f54b28b3a88"
  }
 ],
 "metadata": {
  "kernelspec": {
   "display_name": "Python 3",
   "language": "python",
   "name": "python3"
  },
  "language_info": {
   "codemirror_mode": {
    "name": "ipython",
    "version": 2
   },
   "file_extension": ".py",
   "mimetype": "text/x-python",
   "name": "python",
   "nbconvert_exporter": "python",
   "pygments_lexer": "ipython2",
   "version": "2.7.6"
  }
 },
 "nbformat": 4,
 "nbformat_minor": 5
}
