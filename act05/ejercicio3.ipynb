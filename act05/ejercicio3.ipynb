{
 "cells": [
  {
   "metadata": {},
   "cell_type": "markdown",
   "source": "# Árboles de Decisión en Python",
   "id": "5feb7a4e1647a5ef"
  },
  {
   "metadata": {},
   "cell_type": "markdown",
   "source": [
    "Analiza nuevamente la problemática identificada en la pregunta 1 y responde estas preguntas:\n",
    "- ¿Se puede resolver mediante un modelo de árbol de decisión?\n",
    "- ¿Consideras posible extender el análisis inicial, a una situación donde pudieran estar involucradas nuevas variables de salida? ¿Cómo lo harías?\n",
    "Partiendo de las respuestas que obtuviste después de realizar el análisis, elabora un nuevo modelo en Python que solucione la problemática con las nuevas condiciones, pero en esta ocasión utiliza el modelo de árbol de decisión que mejor se adecúe a estas.\n",
    "\n"
   ],
   "id": "7ff1969144e79e79"
  },
  {
   "metadata": {},
   "cell_type": "code",
   "outputs": [],
   "execution_count": null,
   "source": "",
   "id": "e6b9032e58de865b"
  }
 ],
 "metadata": {
  "kernelspec": {
   "display_name": "Python 3",
   "language": "python",
   "name": "python3"
  },
  "language_info": {
   "codemirror_mode": {
    "name": "ipython",
    "version": 2
   },
   "file_extension": ".py",
   "mimetype": "text/x-python",
   "name": "python",
   "nbconvert_exporter": "python",
   "pygments_lexer": "ipython2",
   "version": "2.7.6"
  }
 },
 "nbformat": 4,
 "nbformat_minor": 5
}
