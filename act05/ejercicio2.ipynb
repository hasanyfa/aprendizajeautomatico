{
 "cells": [
  {
   "metadata": {},
   "cell_type": "markdown",
   "source": "# Evaluación de Modelos de Aprendizaje Automático",
   "id": "17501619b172d72c"
  },
  {
   "metadata": {},
   "cell_type": "markdown",
   "source": "Investiga sobre las diferentes métricas que se utilizan para evaluar el desempeño de un modelo de aprendizaje automático y desarrolla una metodología que te permita extender ese análisis a cualquier tipo de solución elaborada. Aplica este procedimiento al modelo elaborado en la pregunta 1 y registra tus conclusiones en un documento electrónico de la actividad.",
   "id": "595596bd7332cbc2"
  }
 ],
 "metadata": {
  "kernelspec": {
   "display_name": "Python 3",
   "language": "python",
   "name": "python3"
  },
  "language_info": {
   "codemirror_mode": {
    "name": "ipython",
    "version": 2
   },
   "file_extension": ".py",
   "mimetype": "text/x-python",
   "name": "python",
   "nbconvert_exporter": "python",
   "pygments_lexer": "ipython2",
   "version": "2.7.6"
  }
 },
 "nbformat": 4,
 "nbformat_minor": 5
}
