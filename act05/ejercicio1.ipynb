{
 "cells": [
  {
   "metadata": {},
   "cell_type": "markdown",
   "source": "# Regresión Logística en Python",
   "id": "1952c2818fc728c8"
  },
  {
   "metadata": {},
   "cell_type": "markdown",
   "source": "La regresión logística es uno de los métodos de aprendizaje automático que se utiliza para resolver problemas de clasificación binaria de una manera muy eficiente. Identifica una situación real (centro laboral, negocio, hogar) de la cual puedas adquirir una cantidad considerable de datos y que represente una problemática de clasificación binaria, por ejemplo: (0/1), (si/no), (continuar/detener), entre otras. Elabora un programa en Python donde, a partir del análisis previo del comportamiento de los datos, puedas elaborar un modelo capaz de predecir el resultado adecuado para nuevas condiciones que se pudieran presentar.",
   "id": "26fc346fcff77e0c"
  }
 ],
 "metadata": {
  "kernelspec": {
   "display_name": "Python 3",
   "language": "python",
   "name": "python3"
  },
  "language_info": {
   "codemirror_mode": {
    "name": "ipython",
    "version": 2
   },
   "file_extension": ".py",
   "mimetype": "text/x-python",
   "name": "python",
   "nbconvert_exporter": "python",
   "pygments_lexer": "ipython2",
   "version": "2.7.6"
  }
 },
 "nbformat": 4,
 "nbformat_minor": 5
}
