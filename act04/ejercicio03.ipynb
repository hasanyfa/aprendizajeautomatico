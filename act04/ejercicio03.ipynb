{
 "cells": [
  {
   "metadata": {},
   "cell_type": "markdown",
   "source": "# Ejemplo completo en Python (scikit-learn)",
   "id": "95011d6a68f9e094"
  },
  {
   "metadata": {
    "ExecuteTime": {
     "end_time": "2025-10-12T23:35:33.828886Z",
     "start_time": "2025-10-12T23:35:33.820122Z"
    }
   },
   "cell_type": "code",
   "source": [
    "import numpy as np\n",
    "from sklearn.datasets import make_regression\n",
    "from sklearn.model_selection import train_test_split\n",
    "from sklearn.linear_model import LinearRegression\n",
    "from sklearn.metrics import mean_squared_error, r2_score\n",
    "\n",
    "# 1) Datos de ejemplo\n",
    "X, y = make_regression(n_samples=500, n_features=3, noise=15, random_state=42)\n",
    "X_train, X_test, y_train, y_test = train_test_split(X, y, test_size=0.25, random_state=42)\n",
    "\n",
    "# 2) Modelo\n",
    "model = LinearRegression()\n",
    "model.fit(X_train, y_train)\n",
    "\n",
    "# 3) Predicciones\n",
    "y_pred = model.predict(X_test)\n",
    "\n",
    "# 4) Métricas\n",
    "mse  = mean_squared_error(y_test, y_pred)            # MSE\n",
    "rmse = np.sqrt(mse)                                 # RMSE\n",
    "r2   = r2_score(y_test, y_pred)                      # R2 (equivale a model.score(X_test, y_test))\n",
    "\n",
    "print(f\"MSE : {mse:.2f}\")\n",
    "print(f\"RMSE: {rmse:.2f}\")\n",
    "print(f\"R^2 : {r2:.3f}\")\n",
    "\n",
    "# R^2 ajustado (opcional)\n",
    "n = y_test.shape[0]\n",
    "p = X_test.shape[1]\n",
    "r2_adj = 1 - (1 - r2) * (n - 1) / (n - p - 1)\n",
    "print(f\"R^2 ajustado: {r2_adj:.3f}\")\n"
   ],
   "id": "ebaeb978c89c19f2",
   "outputs": [
    {
     "name": "stdout",
     "output_type": "stream",
     "text": [
      "MSE : 213.12\n",
      "RMSE: 14.60\n",
      "R^2 : 0.981\n",
      "R^2 ajustado: 0.980\n"
     ]
    }
   ],
   "execution_count": 2
  },
  {
   "metadata": {},
   "cell_type": "markdown",
   "source": "# uso con validación cruzada (cross-validation)",
   "id": "957eebc6579c8b1a"
  },
  {
   "metadata": {
    "ExecuteTime": {
     "end_time": "2025-10-12T23:36:16.879485Z",
     "start_time": "2025-10-12T23:36:16.863539Z"
    }
   },
   "cell_type": "code",
   "source": [
    "from sklearn.model_selection import cross_val_score\n",
    "\n",
    "# R2 (más alto es mejor)\n",
    "scores_r2 = cross_val_score(model, X, y, scoring=\"r2\", cv=5)\n",
    "\n",
    "# MSE negativo (menos negativo = mejor). Convierte a MSE positivo:\n",
    "scores_mse_neg = cross_val_score(model, X, y, scoring=\"neg_mean_squared_error\", cv=5)\n",
    "scores_mse = -scores_mse_neg\n",
    "\n",
    "print(\"CV R^2:\", scores_r2.mean(), \"+/-\", scores_r2.std())\n",
    "print(\"CV MSE:\", scores_mse.mean(), \"+/-\", scores_mse.std())\n"
   ],
   "id": "fd83cfd7de44f9d3",
   "outputs": [
    {
     "name": "stdout",
     "output_type": "stream",
     "text": [
      "CV R^2: 0.9783037482308531 +/- 0.0013872488086474667\n",
      "CV MSE: 224.09786534017266 +/- 13.695519405538116\n"
     ]
    }
   ],
   "execution_count": 3
  },
  {
   "metadata": {},
   "cell_type": "markdown",
   "source": [
    "## Interpretación práctica\n",
    "\n",
    "MSE/RMSE: te dicen “cuánto te equivocas” en unidades de la variable objetivo (RMSE es más intuitivo por estar en las mismas unidades de\n",
    "𝑦\n",
    "y). Sensibles a outliers.\n",
    "\n",
    "R²: te dice “qué fracción de la variabilidad explicas”.\n",
    "\n",
    "~1: encaje muy bueno (cuidado con sobreajuste).\n",
    "\n",
    "0: no mejor que predecir la media.\n",
    "\n",
    "<0: peor que predecir la media.\n",
    "\n",
    "No existen umbrales universales: compáralos entre modelos, entre configuraciones y con un baseline (por ejemplo, DummyRegressor que predice la media)."
   ],
   "id": "fea81409321c0494"
  }
 ],
 "metadata": {
  "kernelspec": {
   "display_name": "Python 3",
   "language": "python",
   "name": "python3"
  },
  "language_info": {
   "codemirror_mode": {
    "name": "ipython",
    "version": 2
   },
   "file_extension": ".py",
   "mimetype": "text/x-python",
   "name": "python",
   "nbconvert_exporter": "python",
   "pygments_lexer": "ipython2",
   "version": "2.7.6"
  }
 },
 "nbformat": 4,
 "nbformat_minor": 5
}
