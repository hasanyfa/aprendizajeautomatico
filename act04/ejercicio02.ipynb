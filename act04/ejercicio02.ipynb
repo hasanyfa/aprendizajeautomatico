{
 "cells": [
  {
   "cell_type": "markdown",
   "id": "82e17174",
   "metadata": {},
   "source": [
    "# LDA en Python: Reducción de dimensión y visualización (dataset lineal)\n",
    "\n",
    "Este cuaderno aplica **Análisis Discriminante Lineal (LDA)** para reducir la dimensión del primer conjunto de datos (3 características lineales) y visualizar la proyección en 1D.\n"
   ]
  },
  {
   "cell_type": "markdown",
   "id": "b0e59703",
   "metadata": {},
   "source": [
    "## ¿Qué es LDA?\n",
    "\n",
    "El **Análisis Discriminante Lineal (LDA)** busca una combinación lineal de variables que **maximiza la separación entre clases**. \n",
    "A diferencia de PCA (que busca máxima varianza global), LDA optimiza la **discriminación entre grupos**.\n",
    "\n",
    "**Referencias integradas:**\n",
    "- Müller & Guido (2017) subrayan su utilidad para problemas supervisados con clases conocidas.\n",
    "- Pedregosa et al. (2011) documentan la implementación en `scikit-learn`.\n",
    "- Géron (2022) ofrece una introducción práctica con ejemplos comparando LDA y PCA.\n"
   ]
  },
  {
   "cell_type": "markdown",
   "id": "bb0ae8ce",
   "metadata": {},
   "source": [
    "## 1) Generar el conjunto de datos lineal (3 características)"
   ]
  },
  {
   "cell_type": "code",
   "id": "0048d208",
   "metadata": {
    "ExecuteTime": {
     "end_time": "2025-10-12T23:24:48.871948Z",
     "start_time": "2025-10-12T23:24:48.538477Z"
    }
   },
   "source": [
    "import numpy as np\n",
    "import pandas as pd\n",
    "\n",
    "np.random.seed(42)\n",
    "\n",
    "X1 = np.random.rand(100)\n",
    "X2 = 2 * X1 + np.random.normal(0, 0.1, 100)\n",
    "X3 = 3 * X1 + np.random.normal(0, 0.1, 100)\n",
    "y_reg = 3*X1 + 2*X2 + X3 + np.random.normal(0, 0.1, 100)\n",
    "\n",
    "df_linear = pd.DataFrame({'X1': X1, 'X2': X2, 'X3': X3, 'y': y_reg})\n",
    "df_linear.head()"
   ],
   "outputs": [
    {
     "data": {
      "text/plain": [
       "         X1        X2        X3         y\n",
       "0  0.374540  0.757785  1.124921  3.784017\n",
       "1  0.950714  1.871528  2.997496  9.532673\n",
       "2  0.731994  1.473164  2.169516  7.318806\n",
       "3  0.598658  0.998560  2.067992  5.822557\n",
       "4  0.156019  0.290070  0.530623  1.590170"
      ],
      "text/html": [
       "<div>\n",
       "<style scoped>\n",
       "    .dataframe tbody tr th:only-of-type {\n",
       "        vertical-align: middle;\n",
       "    }\n",
       "\n",
       "    .dataframe tbody tr th {\n",
       "        vertical-align: top;\n",
       "    }\n",
       "\n",
       "    .dataframe thead th {\n",
       "        text-align: right;\n",
       "    }\n",
       "</style>\n",
       "<table border=\"1\" class=\"dataframe\">\n",
       "  <thead>\n",
       "    <tr style=\"text-align: right;\">\n",
       "      <th></th>\n",
       "      <th>X1</th>\n",
       "      <th>X2</th>\n",
       "      <th>X3</th>\n",
       "      <th>y</th>\n",
       "    </tr>\n",
       "  </thead>\n",
       "  <tbody>\n",
       "    <tr>\n",
       "      <th>0</th>\n",
       "      <td>0.374540</td>\n",
       "      <td>0.757785</td>\n",
       "      <td>1.124921</td>\n",
       "      <td>3.784017</td>\n",
       "    </tr>\n",
       "    <tr>\n",
       "      <th>1</th>\n",
       "      <td>0.950714</td>\n",
       "      <td>1.871528</td>\n",
       "      <td>2.997496</td>\n",
       "      <td>9.532673</td>\n",
       "    </tr>\n",
       "    <tr>\n",
       "      <th>2</th>\n",
       "      <td>0.731994</td>\n",
       "      <td>1.473164</td>\n",
       "      <td>2.169516</td>\n",
       "      <td>7.318806</td>\n",
       "    </tr>\n",
       "    <tr>\n",
       "      <th>3</th>\n",
       "      <td>0.598658</td>\n",
       "      <td>0.998560</td>\n",
       "      <td>2.067992</td>\n",
       "      <td>5.822557</td>\n",
       "    </tr>\n",
       "    <tr>\n",
       "      <th>4</th>\n",
       "      <td>0.156019</td>\n",
       "      <td>0.290070</td>\n",
       "      <td>0.530623</td>\n",
       "      <td>1.590170</td>\n",
       "    </tr>\n",
       "  </tbody>\n",
       "</table>\n",
       "</div>"
      ]
     },
     "execution_count": 1,
     "metadata": {},
     "output_type": "execute_result"
    }
   ],
   "execution_count": 1
  },
  {
   "cell_type": "markdown",
   "id": "88793630",
   "metadata": {},
   "source": [
    "## 2) Crear etiquetas de clase\n",
    "\n",
    "Para aplicar LDA, requerimos una variable objetivo **categórica**. Aquí, creamos dos clases dividiendo `y` por su media.\n"
   ]
  },
  {
   "cell_type": "code",
   "id": "52f2c4c3",
   "metadata": {
    "ExecuteTime": {
     "end_time": "2025-10-12T23:24:51.722079Z",
     "start_time": "2025-10-12T23:24:51.712999Z"
    }
   },
   "source": [
    "df_linear['Clase'] = (df_linear['y'] > df_linear['y'].mean()).astype(int)\n",
    "X = df_linear[['X1', 'X2', 'X3']].values\n",
    "y = df_linear['Clase'].values\n",
    "\n",
    "df_linear[['X1','X2','X3','y','Clase']].head()"
   ],
   "outputs": [
    {
     "data": {
      "text/plain": [
       "         X1        X2        X3         y  Clase\n",
       "0  0.374540  0.757785  1.124921  3.784017      0\n",
       "1  0.950714  1.871528  2.997496  9.532673      1\n",
       "2  0.731994  1.473164  2.169516  7.318806      1\n",
       "3  0.598658  0.998560  2.067992  5.822557      1\n",
       "4  0.156019  0.290070  0.530623  1.590170      0"
      ],
      "text/html": [
       "<div>\n",
       "<style scoped>\n",
       "    .dataframe tbody tr th:only-of-type {\n",
       "        vertical-align: middle;\n",
       "    }\n",
       "\n",
       "    .dataframe tbody tr th {\n",
       "        vertical-align: top;\n",
       "    }\n",
       "\n",
       "    .dataframe thead th {\n",
       "        text-align: right;\n",
       "    }\n",
       "</style>\n",
       "<table border=\"1\" class=\"dataframe\">\n",
       "  <thead>\n",
       "    <tr style=\"text-align: right;\">\n",
       "      <th></th>\n",
       "      <th>X1</th>\n",
       "      <th>X2</th>\n",
       "      <th>X3</th>\n",
       "      <th>y</th>\n",
       "      <th>Clase</th>\n",
       "    </tr>\n",
       "  </thead>\n",
       "  <tbody>\n",
       "    <tr>\n",
       "      <th>0</th>\n",
       "      <td>0.374540</td>\n",
       "      <td>0.757785</td>\n",
       "      <td>1.124921</td>\n",
       "      <td>3.784017</td>\n",
       "      <td>0</td>\n",
       "    </tr>\n",
       "    <tr>\n",
       "      <th>1</th>\n",
       "      <td>0.950714</td>\n",
       "      <td>1.871528</td>\n",
       "      <td>2.997496</td>\n",
       "      <td>9.532673</td>\n",
       "      <td>1</td>\n",
       "    </tr>\n",
       "    <tr>\n",
       "      <th>2</th>\n",
       "      <td>0.731994</td>\n",
       "      <td>1.473164</td>\n",
       "      <td>2.169516</td>\n",
       "      <td>7.318806</td>\n",
       "      <td>1</td>\n",
       "    </tr>\n",
       "    <tr>\n",
       "      <th>3</th>\n",
       "      <td>0.598658</td>\n",
       "      <td>0.998560</td>\n",
       "      <td>2.067992</td>\n",
       "      <td>5.822557</td>\n",
       "      <td>1</td>\n",
       "    </tr>\n",
       "    <tr>\n",
       "      <th>4</th>\n",
       "      <td>0.156019</td>\n",
       "      <td>0.290070</td>\n",
       "      <td>0.530623</td>\n",
       "      <td>1.590170</td>\n",
       "      <td>0</td>\n",
       "    </tr>\n",
       "  </tbody>\n",
       "</table>\n",
       "</div>"
      ]
     },
     "execution_count": 2,
     "metadata": {},
     "output_type": "execute_result"
    }
   ],
   "execution_count": 2
  },
  {
   "cell_type": "markdown",
   "id": "1e651fa8",
   "metadata": {},
   "source": [
    "## 3) Ajustar LDA y transformar a 1D"
   ]
  },
  {
   "cell_type": "code",
   "id": "4611f905",
   "metadata": {
    "ExecuteTime": {
     "end_time": "2025-10-12T23:24:55.746298Z",
     "start_time": "2025-10-12T23:24:54.958346Z"
    }
   },
   "source": [
    "from sklearn.discriminant_analysis import LinearDiscriminantAnalysis\n",
    "\n",
    "lda = LinearDiscriminantAnalysis(n_components=1)\n",
    "X_lda = lda.fit_transform(X, y)\n",
    "\n",
    "X_lda[:5]"
   ],
   "outputs": [
    {
     "data": {
      "text/plain": [
       "array([[-0.66446816],\n",
       "       [ 3.29454114],\n",
       "       [ 1.85881413],\n",
       "       [ 0.64451576],\n",
       "       [-2.24786456]])"
      ]
     },
     "execution_count": 3,
     "metadata": {},
     "output_type": "execute_result"
    }
   ],
   "execution_count": 3
  },
  {
   "cell_type": "markdown",
   "id": "81d96730",
   "metadata": {},
   "source": [
    "## 4) Visualizar la proyección 1D\n",
    "\n",
    "Se grafican las dos clases en la misma línea (eje Y vacío), **sin especificar colores** manualmente.\n"
   ]
  },
  {
   "cell_type": "code",
   "id": "baa28e9a",
   "metadata": {
    "ExecuteTime": {
     "end_time": "2025-10-12T23:24:58.330032Z",
     "start_time": "2025-10-12T23:24:57.923168Z"
    }
   },
   "source": [
    "import matplotlib.pyplot as plt\n",
    "\n",
    "plt.figure(figsize=(8, 3.5))\n",
    "mask0 = (y == 0)\n",
    "mask1 = (y == 1)\n",
    "plt.scatter(X_lda[mask0, 0], [0]*mask0.sum(), label=\"Clase 0\")\n",
    "plt.scatter(X_lda[mask1, 0], [0]*mask1.sum(), label=\"Clase 1\")\n",
    "plt.yticks([])\n",
    "plt.xlabel(\"Componente discriminante (LDA)\")\n",
    "plt.title(\"Reducción de dimensión con LDA (1D)\")\n",
    "plt.legend()\n",
    "plt.tight_layout()\n",
    "plt.show()"
   ],
   "outputs": [
    {
     "data": {
      "text/plain": [
       "<Figure size 800x350 with 1 Axes>"
      ],
      "image/png": "[encoded data removed]"
     },
     "metadata": {},
     "output_type": "display_data"
    }
   ],
   "execution_count": 4
  },
  {
   "cell_type": "markdown",
   "id": "d09056cf",
   "metadata": {},
   "source": [
    "## 5) Interpretación rápida\n",
    "\n",
    "- Si las nubes de puntos de cada clase **no se superponen** demasiado en 1D, LDA halló una dirección discriminante efectiva.\n",
    "- Si todavía hay mezcla, se puede:\n",
    "  - Probar **otras formas de etiquetar** (por cuartiles, por umbrales distintos).\n",
    "  - Aumentar el tamaño de la muestra.\n",
    "  - Probar **modelos** con fronteras no lineales (SVM con kernel, árboles, etc.).\n"
   ]
  }
 ],
 "metadata": {},
 "nbformat": 4,
 "nbformat_minor": 5
}
