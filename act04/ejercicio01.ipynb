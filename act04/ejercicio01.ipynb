{
 "cells": [
  {
   "metadata": {},
   "cell_type": "markdown",
   "source": "# Ejercicio 1: Generación de conjuntos de datos experimentales",
   "id": "ff53cb29a46baf5e"
  },
  {
   "metadata": {},
   "cell_type": "markdown",
   "source": [
    "Una de las habilidades de un experto en inteligencia artificial y aprendizaje automático es tener la capacidad de generar conjuntos de datos experimentales para poner a prueba los diferentes modelos que va construyendo durante el desarrollo de su carrera. Investiga cuáles de las diversas herramientas de Python incluyen la funcionalidad de realizar esta acción y construye artificialmente los siguientes conjuntos de datos:\n",
    "1. Conjunto de datos de tres características linealmente relacionados.\n",
    "2. Conjunto de datos de cuatro características, relacionados de forma completa, no lineal.\n",
    "3. Conjunto de datos que, de manera prevista, puedan expresar una relación lineal."
   ],
   "id": "93570f640bed87ef"
  },
  {
   "metadata": {},
   "cell_type": "markdown",
   "source": "### 1. Conjunto de datos de tres características linealmente relacionados.",
   "id": "7e17962de0c585ff"
  },
  {
   "metadata": {
    "collapsed": true,
    "ExecuteTime": {
     "end_time": "2025-10-12T22:51:22.654793Z",
     "start_time": "2025-10-12T22:51:20.616179Z"
    }
   },
   "cell_type": "code",
   "source": [
    "import numpy as np\n",
    "import pandas as pd\n",
    "\n",
    "np.random.seed(42)\n",
    "\n",
    "X1 = np.random.rand(100)\n",
    "X2 = 2 * X1 + np.random.normal(0, 0.1, 100)\n",
    "X3 = 3 * X1 + np.random.normal(0, 0.1, 100)\n",
    "y = 3*X1 + 2*X2 + X3 + np.random.normal(0, 0.1, 100)\n",
    "\n",
    "df_linear = pd.DataFrame({'X1': X1, 'X2': X2, 'X3': X3, 'y': y})\n",
    "df_linear.head()\n"
   ],
   "id": "initial_id",
   "outputs": [
    {
     "data": {
      "text/plain": [
       "         X1        X2        X3         y\n",
       "0  0.374540  0.757785  1.124921  3.784017\n",
       "1  0.950714  1.871528  2.997496  9.532673\n",
       "2  0.731994  1.473164  2.169516  7.318806\n",
       "3  0.598658  0.998560  2.067992  5.822557\n",
       "4  0.156019  0.290070  0.530623  1.590170"
      ],
      "text/html": [
       "<div>\n",
       "<style scoped>\n",
       "    .dataframe tbody tr th:only-of-type {\n",
       "        vertical-align: middle;\n",
       "    }\n",
       "\n",
       "    .dataframe tbody tr th {\n",
       "        vertical-align: top;\n",
       "    }\n",
       "\n",
       "    .dataframe thead th {\n",
       "        text-align: right;\n",
       "    }\n",
       "</style>\n",
       "<table border=\"1\" class=\"dataframe\">\n",
       "  <thead>\n",
       "    <tr style=\"text-align: right;\">\n",
       "      <th></th>\n",
       "      <th>X1</th>\n",
       "      <th>X2</th>\n",
       "      <th>X3</th>\n",
       "      <th>y</th>\n",
       "    </tr>\n",
       "  </thead>\n",
       "  <tbody>\n",
       "    <tr>\n",
       "      <th>0</th>\n",
       "      <td>0.374540</td>\n",
       "      <td>0.757785</td>\n",
       "      <td>1.124921</td>\n",
       "      <td>3.784017</td>\n",
       "    </tr>\n",
       "    <tr>\n",
       "      <th>1</th>\n",
       "      <td>0.950714</td>\n",
       "      <td>1.871528</td>\n",
       "      <td>2.997496</td>\n",
       "      <td>9.532673</td>\n",
       "    </tr>\n",
       "    <tr>\n",
       "      <th>2</th>\n",
       "      <td>0.731994</td>\n",
       "      <td>1.473164</td>\n",
       "      <td>2.169516</td>\n",
       "      <td>7.318806</td>\n",
       "    </tr>\n",
       "    <tr>\n",
       "      <th>3</th>\n",
       "      <td>0.598658</td>\n",
       "      <td>0.998560</td>\n",
       "      <td>2.067992</td>\n",
       "      <td>5.822557</td>\n",
       "    </tr>\n",
       "    <tr>\n",
       "      <th>4</th>\n",
       "      <td>0.156019</td>\n",
       "      <td>0.290070</td>\n",
       "      <td>0.530623</td>\n",
       "      <td>1.590170</td>\n",
       "    </tr>\n",
       "  </tbody>\n",
       "</table>\n",
       "</div>"
      ]
     },
     "execution_count": 1,
     "metadata": {},
     "output_type": "execute_result"
    }
   ],
   "execution_count": 1
  },
  {
   "metadata": {},
   "cell_type": "markdown",
   "source": "### 2. Conjunto de datos de cuatro características, relacionados de forma completa, no lineal.",
   "id": "f3ef1fb400becabf"
  },
  {
   "metadata": {
    "ExecuteTime": {
     "end_time": "2025-10-12T22:51:25.189115Z",
     "start_time": "2025-10-12T22:51:22.672165Z"
    }
   },
   "cell_type": "code",
   "source": [
    "from sklearn.datasets import make_classification\n",
    "\n",
    "X, y = make_classification(\n",
    "    n_samples=200,\n",
    "    n_features=4,\n",
    "    n_informative=3,\n",
    "    n_redundant=1,\n",
    "    n_classes=2,\n",
    "    random_state=42,\n",
    "    class_sep=0.5\n",
    ")\n",
    "\n",
    "df_nonlinear = pd.DataFrame(X, columns=['X1', 'X2', 'X3', 'X4'])\n",
    "df_nonlinear['Clase'] = y\n",
    "df_nonlinear.head()\n"
   ],
   "id": "ce22064126bc5cea",
   "outputs": [
    {
     "data": {
      "text/plain": [
       "         X1        X2        X3        X4  Clase\n",
       "0  1.406484 -1.299831 -0.465512 -1.395696      0\n",
       "1 -0.601875  1.993410  1.561121  0.584516      1\n",
       "2  1.482068  2.142358  0.750049 -1.080164      1\n",
       "3  1.458343  1.955314 -1.152526 -0.708872      1\n",
       "4 -0.373964  0.248488  0.406534  0.296250      1"
      ],
      "text/html": [
       "<div>\n",
       "<style scoped>\n",
       "    .dataframe tbody tr th:only-of-type {\n",
       "        vertical-align: middle;\n",
       "    }\n",
       "\n",
       "    .dataframe tbody tr th {\n",
       "        vertical-align: top;\n",
       "    }\n",
       "\n",
       "    .dataframe thead th {\n",
       "        text-align: right;\n",
       "    }\n",
       "</style>\n",
       "<table border=\"1\" class=\"dataframe\">\n",
       "  <thead>\n",
       "    <tr style=\"text-align: right;\">\n",
       "      <th></th>\n",
       "      <th>X1</th>\n",
       "      <th>X2</th>\n",
       "      <th>X3</th>\n",
       "      <th>X4</th>\n",
       "      <th>Clase</th>\n",
       "    </tr>\n",
       "  </thead>\n",
       "  <tbody>\n",
       "    <tr>\n",
       "      <th>0</th>\n",
       "      <td>1.406484</td>\n",
       "      <td>-1.299831</td>\n",
       "      <td>-0.465512</td>\n",
       "      <td>-1.395696</td>\n",
       "      <td>0</td>\n",
       "    </tr>\n",
       "    <tr>\n",
       "      <th>1</th>\n",
       "      <td>-0.601875</td>\n",
       "      <td>1.993410</td>\n",
       "      <td>1.561121</td>\n",
       "      <td>0.584516</td>\n",
       "      <td>1</td>\n",
       "    </tr>\n",
       "    <tr>\n",
       "      <th>2</th>\n",
       "      <td>1.482068</td>\n",
       "      <td>2.142358</td>\n",
       "      <td>0.750049</td>\n",
       "      <td>-1.080164</td>\n",
       "      <td>1</td>\n",
       "    </tr>\n",
       "    <tr>\n",
       "      <th>3</th>\n",
       "      <td>1.458343</td>\n",
       "      <td>1.955314</td>\n",
       "      <td>-1.152526</td>\n",
       "      <td>-0.708872</td>\n",
       "      <td>1</td>\n",
       "    </tr>\n",
       "    <tr>\n",
       "      <th>4</th>\n",
       "      <td>-0.373964</td>\n",
       "      <td>0.248488</td>\n",
       "      <td>0.406534</td>\n",
       "      <td>0.296250</td>\n",
       "      <td>1</td>\n",
       "    </tr>\n",
       "  </tbody>\n",
       "</table>\n",
       "</div>"
      ]
     },
     "execution_count": 2,
     "metadata": {},
     "output_type": "execute_result"
    }
   ],
   "execution_count": 2
  },
  {
   "metadata": {},
   "cell_type": "markdown",
   "source": "### 3. Conjunto de datos que, de manera prevista, puedan expresar una relación lineal.",
   "id": "40d21eb253d85c1d"
  },
  {
   "metadata": {
    "ExecuteTime": {
     "end_time": "2025-10-12T22:51:25.201539Z",
     "start_time": "2025-10-12T22:51:25.195463Z"
    }
   },
   "cell_type": "code",
   "source": [
    "from sklearn.datasets import make_regression\n",
    "\n",
    "X, y = make_regression(\n",
    "    n_samples=150,\n",
    "    n_features=3,\n",
    "    noise=20,\n",
    "    random_state=42\n",
    ")\n",
    "\n",
    "df_expected_linear = pd.DataFrame(X, columns=['X1', 'X2', 'X3'])\n",
    "df_expected_linear['y'] = y\n",
    "df_expected_linear.head()\n"
   ],
   "id": "539288c042b07f37",
   "outputs": [
    {
     "data": {
      "text/plain": [
       "         X1        X2        X3           y\n",
       "0  0.645376  1.368632  0.971571  192.741731\n",
       "1  1.532739 -0.108760  0.519347  132.991831\n",
       "2 -0.692910  0.899600  0.357015   23.824100\n",
       "3  0.473592 -0.919424 -1.062304  -86.709989\n",
       "4  1.032465 -1.519370  2.122156  107.334872"
      ],
      "text/html": [
       "<div>\n",
       "<style scoped>\n",
       "    .dataframe tbody tr th:only-of-type {\n",
       "        vertical-align: middle;\n",
       "    }\n",
       "\n",
       "    .dataframe tbody tr th {\n",
       "        vertical-align: top;\n",
       "    }\n",
       "\n",
       "    .dataframe thead th {\n",
       "        text-align: right;\n",
       "    }\n",
       "</style>\n",
       "<table border=\"1\" class=\"dataframe\">\n",
       "  <thead>\n",
       "    <tr style=\"text-align: right;\">\n",
       "      <th></th>\n",
       "      <th>X1</th>\n",
       "      <th>X2</th>\n",
       "      <th>X3</th>\n",
       "      <th>y</th>\n",
       "    </tr>\n",
       "  </thead>\n",
       "  <tbody>\n",
       "    <tr>\n",
       "      <th>0</th>\n",
       "      <td>0.645376</td>\n",
       "      <td>1.368632</td>\n",
       "      <td>0.971571</td>\n",
       "      <td>192.741731</td>\n",
       "    </tr>\n",
       "    <tr>\n",
       "      <th>1</th>\n",
       "      <td>1.532739</td>\n",
       "      <td>-0.108760</td>\n",
       "      <td>0.519347</td>\n",
       "      <td>132.991831</td>\n",
       "    </tr>\n",
       "    <tr>\n",
       "      <th>2</th>\n",
       "      <td>-0.692910</td>\n",
       "      <td>0.899600</td>\n",
       "      <td>0.357015</td>\n",
       "      <td>23.824100</td>\n",
       "    </tr>\n",
       "    <tr>\n",
       "      <th>3</th>\n",
       "      <td>0.473592</td>\n",
       "      <td>-0.919424</td>\n",
       "      <td>-1.062304</td>\n",
       "      <td>-86.709989</td>\n",
       "    </tr>\n",
       "    <tr>\n",
       "      <th>4</th>\n",
       "      <td>1.032465</td>\n",
       "      <td>-1.519370</td>\n",
       "      <td>2.122156</td>\n",
       "      <td>107.334872</td>\n",
       "    </tr>\n",
       "  </tbody>\n",
       "</table>\n",
       "</div>"
      ]
     },
     "execution_count": 3,
     "metadata": {},
     "output_type": "execute_result"
    }
   ],
   "execution_count": 3
  }
 ],
 "metadata": {
  "kernelspec": {
   "display_name": "Python 3",
   "language": "python",
   "name": "python3"
  },
  "language_info": {
   "codemirror_mode": {
    "name": "ipython",
    "version": 2
   },
   "file_extension": ".py",
   "mimetype": "text/x-python",
   "name": "python",
   "nbconvert_exporter": "python",
   "pygments_lexer": "ipython2",
   "version": "2.7.6"
  }
 },
 "nbformat": 4,
 "nbformat_minor": 5
}
