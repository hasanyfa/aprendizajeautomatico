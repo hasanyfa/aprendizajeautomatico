{
 "cells": [
  {
   "cell_type": "markdown",
   "id": "8e51dc2d",
   "metadata": {},
   "source": [
    "# Operaciones de una matriz cuadrada\n",
    "Utilizando un cuaderno de Jupyter Notebook y el lenguaje de programación Python, se realizaron las siguientes operaciones: \n",
    "- Una matriz cuadrada de 4x4. \n",
    "- Cálculo su inversa y su traspuesta. \n",
    "- Multiplicación de la matriz por un escalar. \n",
    "- El producto interno con una nueva matriz de dimensiones 4x2.\n"
   ]
  },
  {
   "cell_type": "markdown",
   "id": "42026995",
   "metadata": {},
   "source": [
    "## Matriz cuadrada de 4x4"
   ]
  },
  {
   "cell_type": "code",
   "id": "4501c669",
   "metadata": {
    "vscode": {
     "languageId": "plaintext"
    },
    "ExecuteTime": {
     "end_time": "2025-09-15T01:31:07.005457Z",
     "start_time": "2025-09-15T01:31:06.926013Z"
    }
   },
   "source": [
    "import numpy as np\n",
    "\n",
    "# Crear una matriz cuadrada de 4x4\n",
    "matriz_4x4 = np.array([[1, 2, 3, 4],\n",
    "                       [5, 6, 7, 8],\n",
    "                       [9, 10, 11, 12],\n",
    "                       [13, 14, 15, 16]])\n",
    "\n",
    "print(\"Matriz 4x4:\")\n",
    "print(matriz_4x4)"
   ],
   "outputs": [
    {
     "name": "stdout",
     "output_type": "stream",
     "text": [
      "Matriz 4x4:\n",
      "[[ 1  2  3  4]\n",
      " [ 5  6  7  8]\n",
      " [ 9 10 11 12]\n",
      " [13 14 15 16]]\n"
     ]
    }
   ],
   "execution_count": 2
  },
  {
   "metadata": {},
   "cell_type": "markdown",
   "source": "## Cálculo de la inversa y la traspuesta",
   "id": "5b8fee5ff6f350c7"
  },
  {
   "metadata": {
    "ExecuteTime": {
     "end_time": "2025-09-15T01:33:31.590072Z",
     "start_time": "2025-09-15T01:33:31.581557Z"
    }
   },
   "cell_type": "code",
   "source": [
    "# Cálculo de la inversa de la matriz\n",
    "determinante = np.linalg.det(matriz_4x4)\n",
    "print(f\"Determinante de la matriz: {determinante}\")\n",
    "\n",
    "# Verificar si la matriz es invertible usando tolerancia\n",
    "if abs(determinante) > 1e-10:\n",
    "    # La matriz es invertible\n",
    "    inversa_matriz = np.linalg.inv(matriz_4x4)\n",
    "    print(\"\\nInversa de la matriz 4x4:\")\n",
    "    print(inversa_matriz)\n",
    "else:\n",
    "    print(\"\\nLa matriz no es invertible, generando una nueva matriz...\")\n",
    "    np.random.seed(45)\n",
    "    matriz_4x4 = np.random.randint(1, 10, size=(4, 4))\n",
    "    print(\"Nueva matriz 4x4:\")\n",
    "    print(matriz_4x4)\n",
    "    # Verificar nuevamente si la nueva matriz es invertible\n",
    "    determinante_nuevo = np.linalg.det(matriz_4x4)\n",
    "    print(f\"Determinante de la nueva matriz: {determinante_nuevo}\")\n",
    "    if abs(determinante_nuevo) > 1e-10:\n",
    "        inversa_matriz = np.linalg.inv(matriz_4x4)\n",
    "        print(\"\\nInversa de la nueva matriz 4x4:\")\n",
    "        print(inversa_matriz)\n",
    "    else:\n",
    "        print(\"La nueva matriz tampoco es invertible.\")\n",
    "\n",
    "# Cálculo de la traspuesta de la matriz\n",
    "traspuesta_matriz = matriz_4x4.T\n",
    "print(\"\\nTraspuesta de la matriz 4x4:\")\n",
    "print(traspuesta_matriz)\n"
   ],
   "id": "edf94801692d5aa6",
   "outputs": [
    {
     "name": "stdout",
     "output_type": "stream",
     "text": [
      "Determinante de la matriz: -378.99999999999966\n",
      "\n",
      "Inversa de la matriz 4x4:\n",
      "[[ 0.59366755  0.57255937 -0.65963061  0.06332454]\n",
      " [-0.40897098 -0.1055409   0.23218997  0.08970976]\n",
      " [-0.30870712 -0.33773087  0.34300792  0.08707124]\n",
      " [ 0.22163588 -0.03957784  0.08707124 -0.21635884]]\n",
      "\n",
      "Traspuesta de la matriz 4x4:\n",
      "[[4 5 7 6]\n",
      " [1 9 9 3]\n",
      " [6 2 8 9]\n",
      " [4 6 9 2]]\n"
     ]
    }
   ],
   "execution_count": 5
  },
  {
   "metadata": {},
   "cell_type": "markdown",
   "source": "## Multiplicación de la matriz por un escalar",
   "id": "64e773722c213f25"
  },
  {
   "metadata": {
    "ExecuteTime": {
     "end_time": "2025-09-15T01:33:43.047271Z",
     "start_time": "2025-09-15T01:33:43.041809Z"
    }
   },
   "cell_type": "code",
   "source": [
    "escalar = 7\n",
    "matriz_escalar = matriz_4x4 * escalar\n",
    "\n",
    "print(f\"\\nMatriz 4x4 multiplicada por el escalar {escalar}:\")\n",
    "print(matriz_escalar)"
   ],
   "id": "5fad0ce5174bbe08",
   "outputs": [
    {
     "name": "stdout",
     "output_type": "stream",
     "text": [
      "\n",
      "Matriz 4x4 multiplicada por el escalar 7:\n",
      "[[28  7 42 28]\n",
      " [35 63 14 42]\n",
      " [49 63 56 63]\n",
      " [42 21 63 14]]\n"
     ]
    }
   ],
   "execution_count": 6
  },
  {
   "metadata": {},
   "cell_type": "markdown",
   "source": "## Producto interno con una nueva matriz de dimensiones 4x2",
   "id": "6ff18d71c1aabc8d"
  },
  {
   "metadata": {
    "ExecuteTime": {
     "end_time": "2025-09-15T01:34:21.298082Z",
     "start_time": "2025-09-15T01:34:21.294761Z"
    }
   },
   "cell_type": "code",
   "source": [
    "matriz_4x2 = np.array([[1, 2],\n",
    "                       [3, 4],\n",
    "                       [5, 6],\n",
    "                       [7, 8]])\n",
    "\n",
    "print(\"\\nMatriz 4x2:\")\n",
    "print(matriz_4x2)\n",
    "\n",
    "producto_interno = np.dot(matriz_4x4, matriz_4x2)\n",
    "\n",
    "print(\"\\nProducto interno entre la matriz 4x4 y la matriz 4x2:\")\n",
    "print(producto_interno)"
   ],
   "id": "cd457c2c3f94602a",
   "outputs": [
    {
     "name": "stdout",
     "output_type": "stream",
     "text": [
      "\n",
      "Matriz 4x2:\n",
      "[[1 2]\n",
      " [3 4]\n",
      " [5 6]\n",
      " [7 8]]\n",
      "\n",
      "Producto interno entre la matriz 4x4 y la matriz 4x2:\n",
      "[[ 65  80]\n",
      " [ 84 106]\n",
      " [137 170]\n",
      " [ 74  94]]\n"
     ]
    }
   ],
   "execution_count": 7
  }
 ],
 "metadata": {
  "language_info": {
   "name": "python"
  },
  "kernelspec": {
   "name": "python3",
   "language": "python",
   "display_name": "Python 3 (ipykernel)"
  }
 },
 "nbformat": 4,
 "nbformat_minor": 5
}
