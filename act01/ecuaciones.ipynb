{
 "cells": [
  {
   "metadata": {},
   "cell_type": "markdown",
   "source": [
    "# Resolución de un sistemas de ecuaciones lineales\n",
    "Se han resuelto el siguiente sistema de ecuaciones lineales:\n",
    "\n",
    "#### a. Sistema 1:\n",
    "x + 2y + 5z - 4w = 21\n",
    "\n",
    "5x + 8y + z + w = -8\n",
    "\n",
    "5x + 7y - 3z + 2w = 14\n",
    "\n",
    "-x + 3y + 9z - w = 5\n",
    "\n",
    "#### b. Sistema 2:\n",
    "\n",
    "6x + 8z = 9\n",
    "\n",
    "2x + 2y + z = 15\n",
    "\n",
    "4x + y = -4"
   ],
   "id": "da3767e1cecd1875"
  },
  {
   "metadata": {},
   "cell_type": "markdown",
   "source": "## Resolución del sistema 1",
   "id": "b40135bb5faa9cee"
  },
  {
   "metadata": {
    "ExecuteTime": {
     "end_time": "2025-09-15T01:54:53.677789Z",
     "start_time": "2025-09-15T01:54:53.672376Z"
    }
   },
   "cell_type": "code",
   "source": [
    "import numpy as np\n",
    "print(\"Sistema 1:\")\n",
    "print(\"x + 2y + 5z - 4w = 21\")\n",
    "print(\"5x + 8y + z + w = -8\")\n",
    "print(\"5x + 7y - 3z + 2w = 14\")\n",
    "print(\"-x + 3y + 9z - w = 5\")\n",
    "\n",
    "miembroA = np.array([[1, 2, 5, -4],\n",
    "               [5, 8, 1, 1],\n",
    "               [5, 7, -3, 2],\n",
    "               [-1, 3, 9, -1]])\n",
    "miembroB = np.array([21, -8, 14, 5])\n",
    "solucion1 = np.linalg.solve(miembroA, miembroB)\n",
    "print(f\"\\nSolución del Sistema 1:\")\n",
    "print(f\"x = {solucion1[0]:.4f}\")\n",
    "print(f\"y = {solucion1[1]:.4f}\")\n",
    "print(f\"z = {solucion1[2]:.4f}\")\n",
    "print(f\"w = {solucion1[3]:.4f}\")\n",
    "\n",
    "verificacion1 = miembroA @ solucion1\n",
    "print(f\"\\nVerificación (A * x = b):\")\n",
    "print(f\"Resultado: {verificacion1}\")\n",
    "print(f\"Esperado: {miembroB}\")\n",
    "\n",
    "print(f\"La solución es correcta? {'Sí' if np.allclose(verificacion1, miembroB) else 'No'}\")"
   ],
   "id": "5ad2a89e513d364a",
   "outputs": [
    {
     "name": "stdout",
     "output_type": "stream",
     "text": [
      "Sistema 1:\n",
      "x + 2y + 5z - 4w = 21\n",
      "5x + 8y + z + w = -8\n",
      "5x + 7y - 3z + 2w = 14\n",
      "-x + 3y + 9z - w = 5\n",
      "\n",
      "Solución del Sistema 1:\n",
      "x = -57.7018\n",
      "y = 41.3158\n",
      "z = -22.6667\n",
      "w = -27.3509\n",
      "\n",
      "Verificación (A * x = b):\n",
      "Resultado: [21. -8. 14.  5.]\n",
      "Esperado: [21 -8 14  5]\n",
      "La solución es correcta? Sí\n"
     ]
    }
   ],
   "execution_count": 10
  },
  {
   "metadata": {},
   "cell_type": "markdown",
   "source": "## Resolución del sistema 2\n",
   "id": "aec7a149bb928f91"
  },
  {
   "metadata": {
    "ExecuteTime": {
     "end_time": "2025-09-15T01:54:56.376078Z",
     "start_time": "2025-09-15T01:54:56.371341Z"
    }
   },
   "cell_type": "code",
   "source": [
    "print(\"Sistema 2:\")\n",
    "print(\"6x + 8z = 9\")\n",
    "print(\"2x + 2y + z = 15\")\n",
    "print(\"4x + y = -4\")\n",
    "\n",
    "miembroA2 = np.array([[6, 0, 8],\n",
    "               [2, 2, 1],\n",
    "               [4, 1, 0]])\n",
    "miembroB2 = np.array([9, 15, -4])\n",
    "\n",
    "solucion2 = np.linalg.solve(miembroA2, miembroB2)\n",
    "\n",
    "print(f\"\\nSolución del Sistema 2:\")\n",
    "print(f\"x = {solucion2[0]:.4f}\")\n",
    "print(f\"y = {solucion2[1]:.4f}\")\n",
    "print(f\"z = {solucion2[2]:.4f}\")\n",
    "\n",
    "verificacion2 = miembroA2 @ solucion2\n",
    "print(f\"\\nVerificación (A * x = b):\")\n",
    "print(f\"Resultado: {verificacion2}\")\n",
    "print(f\"Esperado: {miembroB2}\")\n",
    "\n",
    "print(f\"La solución es correcta? {'Sí' if np.allclose(verificacion2, miembroB2) else 'No'}\")"
   ],
   "id": "5f1a7da45cef29a1",
   "outputs": [
    {
     "name": "stdout",
     "output_type": "stream",
     "text": [
      "Sistema 2:\n",
      "6x + 8z = 9\n",
      "2x + 2y + z = 15\n",
      "4x + y = -4\n",
      "\n",
      "Solución del Sistema 2:\n",
      "x = -3.2407\n",
      "y = 8.9630\n",
      "z = 3.5556\n",
      "\n",
      "Verificación (A * x = b):\n",
      "Resultado: [ 9. 15. -4.]\n",
      "Esperado: [ 9 15 -4]\n",
      "La solución es correcta? Sí\n"
     ]
    }
   ],
   "execution_count": 11
  }
 ],
 "metadata": {
  "kernelspec": {
   "display_name": "Python 3",
   "language": "python",
   "name": "python3"
  },
  "language_info": {
   "codemirror_mode": {
    "name": "ipython",
    "version": 2
   },
   "file_extension": ".py",
   "mimetype": "text/x-python",
   "name": "python",
   "nbconvert_exporter": "python",
   "pygments_lexer": "ipython2",
   "version": "2.7.6"
  }
 },
 "nbformat": 4,
 "nbformat_minor": 5
}
