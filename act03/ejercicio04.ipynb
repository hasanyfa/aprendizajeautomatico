{
 "cells": [
  {
   "metadata": {},
   "cell_type": "raw",
   "source": [
    "{\n",
    " \"cells\": [\n",
    "  {\n",
    "   \"metadata\": {},\n",
    "   \"cell_type\": \"markdown\",\n",
    "   \"source\": [\n",
    "    \"# Implementación de probabilidad\\n\",\n",
    "    \"Dada la siguiente situación:\\n\",\n",
    "    \"\\n\",\n",
    "    \"Los dispositivos electrónicos que se construían a base de transistores en la década de 1990 presentaban dos tipos de fallas principales: la fuente de alimentación y el circuito principal (tarjeta principal). Según las estadísticas de esa época, un taller promedio recibía de manera mensual un 30% de equipos con afectaciones en la fuente de alimentación y la efectividad de la reparación de un equipo era de un 75% si la falla estaba localizada en el circuito principal.\\n\",\n",
    "    \"\\n\",\n",
    "   ],\n",
    "   \"id\": \"66fbe39c603e4970\"\n",
    "  },\n",
    "  {\n",
    "   \"metadata\": {\n",
    "   },\n",
    "   \"cell_type\": \"code\",\n",
    "  }\n",
    " ],\n",
    " \"metadata\": {\n",
    "  \"kernelspec\": {\n",
    "   \"display_name\": \"Python 3\",\n",
    "   \"language\": \"python\",\n",
    "   \"name\": \"python3\"\n",
    "  },\n",
    "  \"language_info\": {\n",
    "   \"codemirror_mode\": {\n",
    "    \"name\": \"ipython\",\n",
    "    \"version\": 2\n",
    "   },\n",
    "   \"file_extension\": \".py\",\n",
    "   \"mimetype\": \"text/x-python\",\n",
    "   \"name\": \"python\",\n",
    "   \"nbconvert_exporter\": \"python\",\n",
    "   \"pygments_lexer\": \"ipython2\",\n",
    "   \"version\": \"2.7.6\"\n",
    "  }\n",
    " },\n",
    " \"nbformat\": 4,\n",
    " \"nbformat_minor\": 5\n",
    "}\n"
   ],
   "id": "35df126d04c00214"
  }
 ],
 "metadata": {
  "kernelspec": {
   "display_name": "Python 3",
   "language": "python",
   "name": "python3"
  },
  "language_info": {
   "codemirror_mode": {
    "name": "ipython",
    "version": 2
   },
   "file_extension": ".py",
   "mimetype": "text/x-python",
   "name": "python",
   "nbconvert_exporter": "python",
   "pygments_lexer": "ipython2",
   "version": "2.7.6"
  }
 },
 "nbformat": 4,
 "nbformat_minor": 5
}
