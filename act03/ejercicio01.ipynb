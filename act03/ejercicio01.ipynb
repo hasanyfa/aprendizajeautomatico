{
 "cells": [
  {
   "metadata": {},
   "cell_type": "markdown",
   "source": [
    "# Cálculo de la derivada\n",
    "En este cuaderno de Jupyter Notebook y utilizando el lenguaje de programación Python, se realizan las siguientes operaciones:\n",
    "- Se calcula la primera derivada de las siguientes funciones:\n",
    "\n",
    "A. $f(x) = 3x + 4e^{(-4x)}$\n",
    "\n",
    "B. $f(x) = 5x^{(3x+1)} - 8x^2 - 3x$\n",
    "\n",
    "- Se calcula la segunda derivada de las siguientes funciones:\n",
    "\n",
    "A. $f(x) = 4x^4 + 6x^2 + e^{4x^2}$\n",
    "\n",
    "B. $f(x) = \\frac{1}{2x^3} + 8x$"
   ],
   "id": "85213a5b71300f7f"
  },
  {
   "metadata": {
    "ExecuteTime": {
     "end_time": "2025-10-06T04:56:31.401897Z",
     "start_time": "2025-10-06T04:56:31.398463Z"
    }
   },
   "cell_type": "code",
   "source": [
    "import sympy as sp\n",
    "\n",
    "x = sp.Symbol('x')\n",
    "print(\"Se inicia el cálculo de la derivada\")\n",
    "print(x)"
   ],
   "id": "bc06f7500b8ea7ab",
   "outputs": [
    {
     "name": "stdout",
     "output_type": "stream",
     "text": [
      "Se inicia el cálculo de la derivada\n",
      "x\n"
     ]
    }
   ],
   "execution_count": 61
  },
  {
   "metadata": {},
   "cell_type": "markdown",
   "source": [
    "## Primera derivada\n",
    "### A.\\t$f(x) = 3x + 4e^{(-4x)}$"
   ],
   "id": "bb674dabc88be665"
  },
  {
   "metadata": {
    "ExecuteTime": {
     "end_time": "2025-10-06T04:56:31.424216Z",
     "start_time": "2025-10-06T04:56:31.412309Z"
    }
   },
   "cell_type": "code",
   "source": [
    "# PRIMERA DERIVADA - Función A: f(x) = 3x + 4*e^(-4x)\n",
    "f1a = 3*x + 4*sp.exp(-4*x)\n",
    "f1a_prima = sp.diff(f1a, x)\n",
    "\n",
    "print(\"Se calcula la primera derivada - Función A:\")\n",
    "print(\"f(x) = 3x + 4e^(-4x)\")\n",
    "print(f\"f'(x) = {f1a_prima}\")\n",
    "print(f\"Simplificada: f'(x) = {sp.simplify(f1a_prima)}\")\n",
    "print(\"-\" * 50)"
   ],
   "id": "b779f20e4683e985",
   "outputs": [
    {
     "name": "stdout",
     "output_type": "stream",
     "text": [
      "Se calcula la primera derivada - Función A:\n",
      "f(x) = 3x + 4e^(-4x)\n",
      "f'(x) = 3 - 16*exp(-4*x)\n",
      "Simplificada: f'(x) = 3 - 16*exp(-4*x)\n",
      "--------------------------------------------------\n"
     ]
    }
   ],
   "execution_count": 62
  },
  {
   "metadata": {
    "ExecuteTime": {
     "end_time": "2025-10-06T04:56:31.438737Z",
     "start_time": "2025-10-06T04:56:31.432742Z"
    }
   },
   "cell_type": "code",
   "source": [
    "# Cálculo sin sympy de la primera derivada de f(x) = 3x + 4*e^(-4x)\n",
    "print(\"SE REALIZA EL CÁLCULO SIN SYMPY - PRIMERA DERIVADA\")\n",
    "print(\"f(x) = 3x + 4e^(-4x)\")\n",
    "print(\"*\" * 50)\n",
    "\n",
    "# Paso 1: Se identifican los términos\n",
    "termino1 = 3*x\n",
    "termino2 = 4*sp.exp(-4*x)\n",
    "\n",
    "print(\"Paso 1: Se identifican los términos\")\n",
    "print(f\"Término 1: {termino1}\")\n",
    "print(f\"Término 2: {termino2}\")\n",
    "print()\n",
    "\n",
    "# Paso 2: Se aplica la regla de la suma\n",
    "print(\"Paso 2: Se aplica la regla de la suma\")\n",
    "print(\"d/dx[f(x)] = d/dx[3x] + d/dx[4e^(-4x)]\")\n",
    "print()\n",
    "\n",
    "# Paso 3: Se calcula la derivada del primer término\n",
    "derivada_termino1 = sp.diff(termino1, x)\n",
    "print(\"Paso 3: Se calcula la derivada del primer término\")\n",
    "print(\"d/dx[3x] = 3\")\n",
    "print(f\"Resultado: {derivada_termino1}\")\n",
    "print()\n",
    "\n",
    "# Paso 4: Se calcula la derivada del segundo término (paso a paso)\n",
    "print(\"Paso 4: Se calcula la derivada del segundo término\")\n",
    "print(\"d/dx[4e^(-4x)]\")\n",
    "print(\"= 4 * d/dx[e^(-4x)]    (regla del múltiplo constante)\")\n",
    "print(\"= 4 * e^(-4x) * d/dx[-4x]    (regla de la cadena)\")\n",
    "print(\"= 4 * e^(-4x) * (-4)\")\n",
    "print(\"= -16e^(-4x)\")\n",
    "\n",
    "derivada_termino2 = sp.diff(termino2, x)\n",
    "print(f\"Resultado: {derivada_termino2}\")\n",
    "print()\n",
    "\n",
    "# Paso 5: Se obtiene el resultado final\n",
    "print(\"Paso 5: Se suman las derivadas\")\n",
    "print(\"f'(x) = 3 + (-16e^(-4x))\")\n",
    "print(\"f'(x) = 3 - 16e^(-4x)\")\n",
    "print()\n",
    "\n",
    "# Verificación con SymPy\n",
    "derivada_total = sp.diff(f1a, x)\n",
    "print(\"Verificación con SymPy:\")\n",
    "print(f\"f'(x) = {derivada_total}\")\n",
    "print(\"*\" * 50)"
   ],
   "id": "74beb508c495aed7",
   "outputs": [
    {
     "name": "stdout",
     "output_type": "stream",
     "text": [
      "SE REALIZA EL CÁLCULO SIN SYMPY - PRIMERA DERIVADA\n",
      "f(x) = 3x + 4e^(-4x)\n",
      "**************************************************\n",
      "Paso 1: Se identifican los términos\n",
      "Término 1: 3*x\n",
      "Término 2: 4*exp(-4*x)\n",
      "\n",
      "Paso 2: Se aplica la regla de la suma\n",
      "d/dx[f(x)] = d/dx[3x] + d/dx[4e^(-4x)]\n",
      "\n",
      "Paso 3: Se calcula la derivada del primer término\n",
      "d/dx[3x] = 3\n",
      "Resultado: 3\n",
      "\n",
      "Paso 4: Se calcula la derivada del segundo término\n",
      "d/dx[4e^(-4x)]\n",
      "= 4 * d/dx[e^(-4x)]    (regla del múltiplo constante)\n",
      "= 4 * e^(-4x) * d/dx[-4x]    (regla de la cadena)\n",
      "= 4 * e^(-4x) * (-4)\n",
      "= -16e^(-4x)\n",
      "Resultado: -16*exp(-4*x)\n",
      "\n",
      "Paso 5: Se suman las derivadas\n",
      "f'(x) = 3 + (-16e^(-4x))\n",
      "f'(x) = 3 - 16e^(-4x)\n",
      "\n",
      "Verificación con SymPy:\n",
      "f'(x) = 3 - 16*exp(-4*x)\n",
      "**************************************************\n"
     ]
    }
   ],
   "execution_count": 63
  },
  {
   "metadata": {},
   "cell_type": "markdown",
   "source": "### B.\t$f(x) = 5x^{(3x+1)} - 8x^2 - 3x$",
   "id": "7776f036c5999407"
  },
  {
   "metadata": {
    "ExecuteTime": {
     "end_time": "2025-10-06T04:56:31.461721Z",
     "start_time": "2025-10-06T04:56:31.457955Z"
    }
   },
   "cell_type": "code",
   "source": [
    "# PRIMERA DERIVADA - Función B: f(x) = 5x^(3x+1) - 8x² - 3x\n",
    "f1b = 5*x**(3*x + 1) - 8*x**2 - 3*x\n",
    "f1b_prima = sp.diff(f1b, x)\n",
    "\n",
    "print(\"Se calcula la primera derivada - Función B:\")\n",
    "print(f\"f(x) = 5x^(3x+1) - 8x² - 3x\")\n",
    "print(f\"f'(x) = {f1b_prima}\")\n",
    "print(\"*\" * 50)"
   ],
   "id": "c4b35252e43d091c",
   "outputs": [
    {
     "name": "stdout",
     "output_type": "stream",
     "text": [
      "Se calcula la primera derivada - Función B:\n",
      "f(x) = 5x^(3x+1) - 8x² - 3x\n",
      "f'(x) = -16*x + 5*x**(3*x + 1)*(3*log(x) + (3*x + 1)/x) - 3\n",
      "**************************************************\n"
     ]
    }
   ],
   "execution_count": 64
  },
  {
   "metadata": {
    "ExecuteTime": {
     "end_time": "2025-10-06T04:56:31.474657Z",
     "start_time": "2025-10-06T04:56:31.469235Z"
    }
   },
   "cell_type": "code",
   "source": [
    "# Cálculo sin sympy de la primera derivada de f(x) = 5x^(3x+1) - 8x² - 3x\n",
    "print(\"SE REALIZA EL CÁLCULO SIN SYMPY - PRIMERA DERIVADA FUNCIÓN B\")\n",
    "print(\"f(x) = 5x^(3x+1) - 8x² - 3x\")\n",
    "print(\"*\" * 60)\n",
    "\n",
    "# Paso 1: Se identifican los términos\n",
    "termino1 = 5*x**(3*x + 1)\n",
    "termino2 = -8*x**2\n",
    "termino3 = -3*x\n",
    "\n",
    "print(\"Paso 1: Se identifican los términos\")\n",
    "print(f\"Término 1: {termino1}\")\n",
    "print(f\"Término 2: {termino2}\")\n",
    "print(f\"Término 3: {termino3}\")\n",
    "print()\n",
    "\n",
    "# Paso 2: Se aplica la regla de la suma\n",
    "print(\"Paso 2: Se aplica la regla de la suma\")\n",
    "print(\"d/dx[f(x)] = d/dx[5x^(3x+1)] + d/dx[-8x²] + d/dx[-3x]\")\n",
    "print()\n",
    "\n",
    "# Paso 3: Se calcula la derivada del primer término (más complejo)\n",
    "print(\"Paso 3: Se calcula la derivada del primer término - 5x^(3x+1)\")\n",
    "print(\"Este término requiere derivación logarítmica:\")\n",
    "print(\"Sea u = x^(3x+1), entonces ln(u) = (3x+1)ln(x)\")\n",
    "print(\"Derivando implícitamente:\")\n",
    "print(\"u'/u = d/dx[(3x+1)ln(x)]\")\n",
    "print(\"u'/u = d/dx[3x+1] * ln(x) + (3x+1) * d/dx[ln(x)]\")\n",
    "print(\"u'/u = 3 * ln(x) + (3x+1) * (1/x)\")\n",
    "print(\"u'/u = 3ln(x) + (3x+1)/x\")\n",
    "print(\"u' = x^(3x+1) * [3ln(x) + (3x+1)/x]\")\n",
    "print(\"Entonces: d/dx[5x^(3x+1)] = 5 * x^(3x+1) * [3ln(x) + (3x+1)/x]\")\n",
    "\n",
    "derivada_termino1 = sp.diff(termino1, x)\n",
    "print(f\"Resultado SymPy: {derivada_termino1}\")\n",
    "print(\"Verificación completa con SymPy:\")\n",
    "print(f\"f'(x) = {f1b_prima}\")\n",
    "print(\"*\" * 50)"
   ],
   "id": "36f33a0c1027fa6c",
   "outputs": [
    {
     "name": "stdout",
     "output_type": "stream",
     "text": [
      "SE REALIZA EL CÁLCULO SIN SYMPY - PRIMERA DERIVADA FUNCIÓN B\n",
      "f(x) = 5x^(3x+1) - 8x² - 3x\n",
      "************************************************************\n",
      "Paso 1: Se identifican los términos\n",
      "Término 1: 5*x**(3*x + 1)\n",
      "Término 2: -8*x**2\n",
      "Término 3: -3*x\n",
      "\n",
      "Paso 2: Se aplica la regla de la suma\n",
      "d/dx[f(x)] = d/dx[5x^(3x+1)] + d/dx[-8x²] + d/dx[-3x]\n",
      "\n",
      "Paso 3: Se calcula la derivada del primer término - 5x^(3x+1)\n",
      "Este término requiere derivación logarítmica:\n",
      "Sea u = x^(3x+1), entonces ln(u) = (3x+1)ln(x)\n",
      "Derivando implícitamente:\n",
      "u'/u = d/dx[(3x+1)ln(x)]\n",
      "u'/u = d/dx[3x+1] * ln(x) + (3x+1) * d/dx[ln(x)]\n",
      "u'/u = 3 * ln(x) + (3x+1) * (1/x)\n",
      "u'/u = 3ln(x) + (3x+1)/x\n",
      "u' = x^(3x+1) * [3ln(x) + (3x+1)/x]\n",
      "Entonces: d/dx[5x^(3x+1)] = 5 * x^(3x+1) * [3ln(x) + (3x+1)/x]\n",
      "Resultado SymPy: 5*x**(3*x + 1)*(3*log(x) + (3*x + 1)/x)\n",
      "Verificación completa con SymPy:\n",
      "f'(x) = -16*x + 5*x**(3*x + 1)*(3*log(x) + (3*x + 1)/x) - 3\n",
      "**************************************************\n"
     ]
    }
   ],
   "execution_count": 65
  },
  {
   "metadata": {},
   "cell_type": "markdown",
   "source": [
    "## Segunda derivada\n",
    "### A.\\t$f(x) = 4x^4 + 6x^2 + e^{4x^2}$"
   ],
   "id": "a95f90dc7e2526ac"
  },
  {
   "metadata": {
    "ExecuteTime": {
     "end_time": "2025-10-06T04:56:31.497366Z",
     "start_time": "2025-10-06T04:56:31.481138Z"
    }
   },
   "cell_type": "code",
   "source": [
    "# SEGUNDA DERIVADA - Función A: f(x) = 4x^4 + 6x^2 + e^(4x^2)\n",
    "f2a = 4*x**4 + 6*x**2 + sp.exp(4*x**2)\n",
    "f2a_segunda = sp.diff(f2a, x, 2)\n",
    "\n",
    "print(\"Se calcula la segunda derivada - Función A:\")\n",
    "print(\"f(x) = 4x^4 + 6x^2 + e^(4x^2)\")\n",
    "print(f\"f''(x) = {f2a_segunda}\")\n",
    "print(f\"Simplificada: f''(x) = {sp.simplify(f2a_segunda)}\")\n",
    "print(\"-\" * 50)"
   ],
   "id": "89006b270d6066b9",
   "outputs": [
    {
     "name": "stdout",
     "output_type": "stream",
     "text": [
      "Se calcula la segunda derivada - Función A:\n",
      "f(x) = 4x^4 + 6x^2 + e^(4x^2)\n",
      "f''(x) = 4*(16*x**2*exp(4*x**2) + 12*x**2 + 2*exp(4*x**2) + 3)\n",
      "Simplificada: f''(x) = 64*x**2*exp(4*x**2) + 48*x**2 + 8*exp(4*x**2) + 12\n",
      "--------------------------------------------------\n"
     ]
    }
   ],
   "execution_count": 66
  },
  {
   "metadata": {
    "ExecuteTime": {
     "end_time": "2025-10-06T04:56:31.512256Z",
     "start_time": "2025-10-06T04:56:31.504715Z"
    }
   },
   "cell_type": "code",
   "source": [
    "# Cálculo sin sympy de la segunda derivada de f(x) = 4x^4 + 6x^2 + e^(4x^2)\n",
    "print(\"CÁLCULO SIN SYMPY - SEGUNDA DERIVADA\")\n",
    "print(\"f(x) = 4x^4 + 6x^2 + e^(4x^2)\")\n",
    "print(\"*\" * 50)\n",
    "\n",
    "# Paso 1: Identificar los términos\n",
    "termino1 = 4*x**4\n",
    "termino2 = 6*x**2\n",
    "termino3 = sp.exp(4*x**2)\n",
    "\n",
    "print(\"Paso 1: Identificar los términos\")\n",
    "print(f\"Término 1: {termino1}\")\n",
    "print(f\"Término 2: {termino2}\")\n",
    "print(f\"Término 3: {termino3}\")\n",
    "print()\n",
    "\n",
    "# Paso 2: Aplicar regla de la suma\n",
    "print(\"Paso 2: Aplicar regla de la suma\")\n",
    "print(\"d/dx[f(x)] = d/dx[4x^4] + d/dx[6x^2] + d/dx[e^(4x^2)]\")\n",
    "print()\n",
    "\n",
    "# Paso 3: Derivada del primer término\n",
    "derivada_termino1 = sp.diff(termino1, x)\n",
    "print(\"Paso 3: Derivada del primer término\")\n",
    "print(\"d/dx[4x^4] = 16x^3\")\n",
    "print(f\"Resultado: {derivada_termino1}\")\n",
    "print()\n",
    "\n",
    "# Paso 4: Derivada del segundo término\n",
    "derivada_termino2 = sp.diff(termino2, x)\n",
    "print(\"Paso 4: Derivada del segundo término\")\n",
    "print(\"d/dx[6x^2] = 12x\")\n",
    "print(f\"Resultado: {derivada_termino2}\")\n",
    "print()\n",
    "\n",
    "# Paso 5: Derivada del tercer término (más complejo)\n",
    "print(\"Paso 5: Derivada del tercer término - e^(4x^2)\")\n",
    "print(\"Este término requiere la regla de la cadena:\")\n",
    "print(\"Sea u = 4x^2, entonces d/dx[e^(4x^2)] = e^u * du/dx\")\n",
    "print(\"du/dx = 8x\")\n",
    "print(\"Entonces: d/dx[e^(4x^2)] = e^(4x^2) * 8x\")\n",
    "\n",
    "derivada_termino3 = sp.diff(termino3, x)\n",
    "print(f\"Resultado SymPy: {derivada_termino3}\")\n",
    "print()\n",
    "\n",
    "# Paso 6: Se suman las derivadas\n",
    "print(\"Paso 6: Se suman las derivadas\")\n",
    "print(\"f''(x) = 16x^3 + 12x + 8xe^(4x^2)\")\n",
    "print()\n",
    "\n",
    "# Verificación con SymPy\n",
    "derivada_total = sp.diff(f2a, x, 2)\n",
    "print(\"Verificación con SymPy:\")\n",
    "print(f\"f''(x) = {derivada_total}\")\n",
    "print(\"*\" * 50)"
   ],
   "id": "7ac60288bde59271",
   "outputs": [
    {
     "name": "stdout",
     "output_type": "stream",
     "text": [
      "CÁLCULO SIN SYMPY - SEGUNDA DERIVADA\n",
      "f(x) = 4x^4 + 6x^2 + e^(4x^2)\n",
      "**************************************************\n",
      "Paso 1: Identificar los términos\n",
      "Término 1: 4*x**4\n",
      "Término 2: 6*x**2\n",
      "Término 3: exp(4*x**2)\n",
      "\n",
      "Paso 2: Aplicar regla de la suma\n",
      "d/dx[f(x)] = d/dx[4x^4] + d/dx[6x^2] + d/dx[e^(4x^2)]\n",
      "\n",
      "Paso 3: Derivada del primer término\n",
      "d/dx[4x^4] = 16x^3\n",
      "Resultado: 16*x**3\n",
      "\n",
      "Paso 4: Derivada del segundo término\n",
      "d/dx[6x^2] = 12x\n",
      "Resultado: 12*x\n",
      "\n",
      "Paso 5: Derivada del tercer término - e^(4x^2)\n",
      "Este término requiere la regla de la cadena:\n",
      "Sea u = 4x^2, entonces d/dx[e^(4x^2)] = e^u * du/dx\n",
      "du/dx = 8x\n",
      "Entonces: d/dx[e^(4x^2)] = e^(4x^2) * 8x\n",
      "Resultado SymPy: 8*x*exp(4*x**2)\n",
      "\n",
      "Paso 6: Se suman las derivadas\n",
      "f''(x) = 16x^3 + 12x + 8xe^(4x^2)\n",
      "\n",
      "Verificación con SymPy:\n",
      "f''(x) = 4*(16*x**2*exp(4*x**2) + 12*x**2 + 2*exp(4*x**2) + 3)\n",
      "**************************************************\n"
     ]
    }
   ],
   "execution_count": 67
  },
  {
   "metadata": {},
   "cell_type": "markdown",
   "source": "### B.\t$f(x) = \\frac{1}{2x^3} + 8x$",
   "id": "b434aeb610887284"
  },
  {
   "metadata": {
    "ExecuteTime": {
     "end_time": "2025-10-06T04:56:31.523859Z",
     "start_time": "2025-10-06T04:56:31.519215Z"
    }
   },
   "cell_type": "code",
   "source": [
    "# SEGUNDA DERIVADA - Función B: f(x) = 1/(2x^3) + 8x\n",
    "f2b = 1/(2*x**3) + 8*x\n",
    "f2b_segunda = sp.diff(f2b, x, 2)\n",
    "\n",
    "print(\"Se calcula la segunda derivada - Función B:\")\n",
    "print(\"f(x) = 1/(2x^3) + 8x\")\n",
    "print(f\"f''(x) = {f2b_segunda}\")\n",
    "print(f\"Simplificada: f''(x) = {sp.simplify(f2b_segunda)}\")\n",
    "print(\"-\" * 50)"
   ],
   "id": "4f49a5ba56cb3548",
   "outputs": [
    {
     "name": "stdout",
     "output_type": "stream",
     "text": [
      "Se calcula la segunda derivada - Función B:\n",
      "f(x) = 1/(2x^3) + 8x\n",
      "f''(x) = 6/x**5\n",
      "Simplificada: f''(x) = 6/x**5\n",
      "--------------------------------------------------\n"
     ]
    }
   ],
   "execution_count": 68
  },
  {
   "metadata": {
    "ExecuteTime": {
     "end_time": "2025-10-06T04:56:31.534740Z",
     "start_time": "2025-10-06T04:56:31.529845Z"
    }
   },
   "cell_type": "code",
   "source": [
    "# Cálculo sin sympy de la segunda derivada de f(x) = 1/(2x^3) + 8x\n",
    "print(\"SE REALIZA EL CÁLCULO SIN SYMPY - SEGUNDA DERIVADA\")\n",
    "print(\"f(x) = 1/(2x^3) + 8x\")\n",
    "print(\"*\" * 50)\n",
    "\n",
    "# Paso 1: Se identifican los términos\n",
    "termino1 = 1/(2*x**3)\n",
    "termino2 = 8*x\n",
    "\n",
    "print(\"Paso 1: Se identifican los términos\")\n",
    "print(f\"Término 1: {termino1}\")\n",
    "print(f\"Término 2: {termino2}\")\n",
    "print()\n",
    "\n",
    "# Paso 2: Se aplica la regla de la suma\n",
    "print(\"Paso 2: Se aplica la regla de la suma\")\n",
    "print(\"d/dx[f(x)] = d/dx[1/(2x^3)] + d/dx[8x]\")\n",
    "print()\n",
    "\n",
    "# Paso 3: Se calcula la derivada del primer término (más complejo)\n",
    "print(\"Paso 3: Se calcula la derivada del primer término - 1/(2x^3)\")\n",
    "print(\"Este término requiere la regla de la cadena y la regla del cociente:\")\n",
    "print(\"Sea u = 2x^3, entonces d/dx[1/u] = -1/u^2 * du/dx\")\n",
    "print(\"du/dx = 6x^2\")\n",
    "print(\"Entonces: d/dx[1/(2x^3)] = -1/(2x^6) * 6x^2\")\n",
    "\n",
    "derivada_termino1 = sp.diff(termino1, x)\n",
    "print(f\"Resultado SymPy: {derivada_termino1}\")\n",
    "print()\n",
    "\n",
    "# Paso 4: Se calcula la derivada del segundo término\n",
    "derivada_termino2 = sp.diff(termino2, x)\n",
    "print(\"Paso 4: Se calcula la derivada del segundo término\")\n",
    "print(\"d/dx[8x] = 8\")\n",
    "print(f\"Resultado: {derivada_termino2}\")\n",
    "print()\n",
    "\n",
    "# Paso 5: Se obtiene el resultado final\n",
    "print(\"Paso 5: Se suman las derivadas\")\n",
    "print(\"f''(x) = -3/x^4 + 8\")\n",
    "print()\n",
    "\n",
    "# Verificación con SymPy\n",
    "derivada_total = sp.diff(f2b, x, 2)\n",
    "print(\"Verificación con SymPy:\")\n",
    "print(f\"f''(x) = {derivada_total}\")\n",
    "print(\"*\" * 50)\n"
   ],
   "id": "594a4e4a1f3954d8",
   "outputs": [
    {
     "name": "stdout",
     "output_type": "stream",
     "text": [
      "SE REALIZA EL CÁLCULO SIN SYMPY - SEGUNDA DERIVADA\n",
      "f(x) = 1/(2x^3) + 8x\n",
      "**************************************************\n",
      "Paso 1: Se identifican los términos\n",
      "Término 1: 1/(2*x**3)\n",
      "Término 2: 8*x\n",
      "\n",
      "Paso 2: Se aplica la regla de la suma\n",
      "d/dx[f(x)] = d/dx[1/(2x^3)] + d/dx[8x]\n",
      "\n",
      "Paso 3: Se calcula la derivada del primer término - 1/(2x^3)\n",
      "Este término requiere la regla de la cadena y la regla del cociente:\n",
      "Sea u = 2x^3, entonces d/dx[1/u] = -1/u^2 * du/dx\n",
      "du/dx = 6x^2\n",
      "Entonces: d/dx[1/(2x^3)] = -1/(2x^6) * 6x^2\n",
      "Resultado SymPy: -3/(2*x**4)\n",
      "\n",
      "Paso 4: Se calcula la derivada del segundo término\n",
      "d/dx[8x] = 8\n",
      "Resultado: 8\n",
      "\n",
      "Paso 5: Se suman las derivadas\n",
      "f''(x) = -3/x^4 + 8\n",
      "\n",
      "Verificación con SymPy:\n",
      "f''(x) = 6/x**5\n",
      "**************************************************\n"
     ]
    }
   ],
   "execution_count": 69
  }
 ],
 "metadata": {
  "kernelspec": {
   "display_name": "Python 3",
   "language": "python",
   "name": "python3"
  },
  "language_info": {
   "codemirror_mode": {
    "name": "ipython",
    "version": 2
   },
   "file_extension": ".py",
   "mimetype": "text/x-python",
   "name": "python",
   "nbconvert_exporter": "python",
   "pygments_lexer": "ipython2",
   "version": "2.7.6"
  }
 },
 "nbformat": 4,
 "nbformat_minor": 5
}
